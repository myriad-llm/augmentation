{
 "cells": [
  {
   "cell_type": "code",
   "execution_count": 21,
   "metadata": {
    "collapsed": true,
    "ExecuteTime": {
     "end_time": "2024-11-01T17:30:04.895287Z",
     "start_time": "2024-11-01T17:29:43.410517Z"
    }
   },
   "outputs": [
    {
     "name": "stdout",
     "output_type": "stream",
     "text": [
      "Train data - is_sa==1 count: 3458, is_sa==0 count: 31272, Ratio: 0.11\n",
      "Test data - is_sa==1 count: 384, is_sa==0 count: 3475, Ratio: 0.11\n"
     ]
    }
   ],
   "source": [
    "import pandas as pd\n",
    "from sklearn.model_selection import train_test_split, cross_val_score, StratifiedKFold\n",
    "from sklearn.metrics import confusion_matrix,classification_report\n",
    "# from xgboost import XGBClassifier\n",
    "import numpy as np\n",
    "from sklearn.metrics import accuracy_score, f1_score\n",
    "from imblearn.over_sampling import SMOTE\n",
    "from sklearn.impute import SimpleImputer\n",
    "import time\n",
    "\n",
    "ALL = False\n",
    "NO_SMOTE = True\n",
    "SUB_PROCESSED_DIR = 'processed_undersample'\n",
    "TEST_RATIO = 0.1\n",
    "\n",
    "dtypes = {\n",
    "    'msisdn': 'str',\n",
    "    'start_time': 'str',\n",
    "    'end_time': 'str',\n",
    "    'call_event': 'category',\n",
    "    'other_party': 'str',\n",
    "    'ismultimedia': 'category',\n",
    "    'home_area_code': 'str',\n",
    "    'visit_area_code': 'str',\n",
    "    'called_home_code': 'str',\n",
    "    'called_code': 'str',\n",
    "    'a_serv_type': 'int',\n",
    "    'long_type1': 'int',\n",
    "    'roam_type': 'int',\n",
    "    'a_product_id': 'str',\n",
    "    'open_datetime': 'str',\n",
    "    'call_duration': 'int32',\n",
    "    'cfee': 'float64',\n",
    "    'lfee': 'float64',\n",
    "    'hour': 'int8',\n",
    "    'dayofweek': 'int',\n",
    "    'phone1_type': 'int',\n",
    "    'phone2_type': 'int',\n",
    "    'phone1_loc_city': 'str',\n",
    "    'phone1_loc_province': 'str',\n",
    "    'phone2_loc_city': 'str',\n",
    "    'phone2_loc_province': 'str',\n",
    "    'update_time': 'str',\n",
    "    'date': 'str',\n",
    "    'date_c': 'str'\n",
    "}\n",
    "\n",
    "# 判断 processed 文件夹是否存在\n",
    "import os\n",
    "# 读取CSV文件\n",
    "labeled_data = pd.read_csv('../self_data/all_trainSet_res.csv', dtype=dtypes)\n",
    "labels = pd.read_csv('../self_data/all_trainSet_ans.csv', dtype=dtypes)\n",
    "\n",
    "validation_data = pd.read_csv('../self_data/sorted_validationSet_res_with_head.csv', dtype=dtypes)\n",
    "\n",
    "# 按照 msisdn 切分 train_data 和 test_data\n",
    "train_data_msisdn, test_data_msisdn = train_test_split(labels['msisdn'], test_size=TEST_RATIO, random_state=42, stratify=labels['is_sa'])\n",
    "train_data = labeled_data[labeled_data['msisdn'].isin(train_data_msisdn)]\n",
    "train_labels = labels[labels['msisdn'].isin(train_data_msisdn)]\n",
    "assert len(train_data['msisdn'].unique()) == len(train_data_msisdn)\n",
    "\n",
    "test_data = labeled_data[labeled_data['msisdn'].isin(test_data_msisdn)]\n",
    "test_labels = labels[labels['msisdn'].isin(test_data_msisdn)]\n",
    "assert len(test_data['msisdn'].unique()) == len(test_data_msisdn)\n",
    "\n",
    "# Calculate the count of is_sa == 1 and is_sa == 0 for train_data\n",
    "train_count = train_labels['is_sa'].value_counts()\n",
    "train_ratio = train_count.get(1, 0) / train_count.get(0, 1)  # Avoid division by zero\n",
    "\n",
    "# Calculate the count of is_sa == 1 and is_sa == 0 for test_data\n",
    "test_count = test_labels['is_sa'].value_counts()\n",
    "test_ratio = test_count.get(1, 0) / test_count.get(0, 1)  # Avoid division by zero\n",
    "\n",
    "# Output the results\n",
    "print(f\"Train data - is_sa==1 count: {train_count.get(1, 0)}, is_sa==0 count: {train_count.get(0, 0)}, Ratio: {train_ratio:.2f}\")\n",
    "print(f\"Test data - is_sa==1 count: {test_count.get(1, 0)}, is_sa==0 count: {test_count.get(0, 0)}, Ratio: {test_ratio:.2f}\")\n"
   ]
  },
  {
   "cell_type": "code",
   "outputs": [
    {
     "name": "stdout",
     "output_type": "stream",
     "text": [
      "Creating processed data folder...\n"
     ]
    }
   ],
   "source": [
    "os.mkdir(f'../self_data/{SUB_PROCESSED_DIR}')\n",
    "print(\"Creating processed data folder...\")\n",
    "# Save entries with is_sa == 1 \n",
    "merged_train_data = pd.merge(train_data, train_labels, on='msisdn', how='left')\n",
    "merged_test_data = pd.merge(test_data, test_labels, on='msisdn', how='left')\n",
    "train_data_issa = merged_train_data[merged_train_data['is_sa'] == 1]\n",
    "test_data_issa = merged_test_data[merged_test_data['is_sa'] == 1]\n",
    "\n",
    "train_data_issa = train_data_issa.drop(columns=['is_sa'])\n",
    "test_data_issa = test_data_issa.drop(columns=['is_sa'])\n",
    "# Save these to CSV files\n",
    "train_data_issa.to_csv(f'../self_data/{SUB_PROCESSED_DIR}/train_data_issa.csv', index=False)\n",
    "test_data_issa.to_csv(f'../self_data/{SUB_PROCESSED_DIR}/test_data_issa.csv', index=False)\n",
    "\n",
    "train_labels_issa = train_data_issa['msisdn'].unique()  # Get unique msisdn values\n",
    "train_labels_issa_df = pd.DataFrame({'msisdn': train_labels_issa, 'is_sa': 1})  # Create DataFrame\n",
    "train_labels_issa_df.to_csv(f'../self_data/{SUB_PROCESSED_DIR}/train_label_issa.csv', index=False)\n",
    "\n",
    "test_labels_issa = test_data_issa['msisdn'].unique()\n",
    "test_labels_issa_df = pd.DataFrame({'msisdn': test_labels_issa, 'is_sa': 1})\n",
    "test_labels_issa_df.to_csv(f'../self_data/{SUB_PROCESSED_DIR}/test_label_issa.csv', index=False)\n",
    "\n",
    "# Number of samples to create\n",
    "num_samples = 9\n",
    "\n",
    "# Randomly sample is_sa == 0 from train_data and test_data\n",
    "for i in range(1, num_samples + 1):\n",
    "    # Sample is_sa == 0 data with replacement\n",
    "    train_data_notsa = merged_train_data[merged_train_data['is_sa'] == 0].sample(\n",
    "        n=len(train_data_issa), replace=True, random_state=i*100\n",
    "    )\n",
    "    test_data_notsa = merged_test_data[merged_test_data['is_sa'] == 0].sample(\n",
    "        n=len(test_data_issa), replace=True, random_state=i*100\n",
    "    )\n",
    "\n",
    "    train_data_notsa = train_data_notsa.drop(columns=['is_sa'])\n",
    "    test_data_notsa = test_data_notsa.drop(columns=['is_sa'])\n",
    "    # Save the sampled data to CSV files\n",
    "    train_data_notsa.to_csv(f'../self_data/{SUB_PROCESSED_DIR}/train_data_notsa_0{i}.csv', index=False)\n",
    "    test_data_notsa.to_csv(f'../self_data/{SUB_PROCESSED_DIR}/test_data_notsa_0{i}.csv', index=False)\n",
    "    \n",
    "    train_labels_notsa = train_data_notsa['msisdn'].unique()  # Get unique msisdn values\n",
    "    train_labels_notsa_df = pd.DataFrame({'msisdn': train_labels_issa, 'is_sa': 0})  # Create DataFrame\n",
    "    train_labels_notsa_df.to_csv(f'../self_data/{SUB_PROCESSED_DIR}/train_label_issa_0{i}.csv', index=False)\n",
    "    \n",
    "    test_labels_notsa = test_data_notsa['msisdn'].unique()\n",
    "    test_labels_notsa_df = pd.DataFrame({'msisdn': test_labels_notsa, 'is_sa': 0}) \n",
    "    test_labels_notsa_df.to_csv(f'../self_data/{SUB_PROCESSED_DIR}/test_label_notsa_0{i}.csv', index=False)"
   ],
   "metadata": {
    "ExecuteTime": {
     "end_time": "2024-11-01T17:36:34.884263Z",
     "start_time": "2024-11-01T17:35:44.752305Z"
    }
   },
   "execution_count": 24
  },
  {
   "cell_type": "code",
   "execution_count": 23,
   "metadata": {
    "ExecuteTime": {
     "end_time": "2024-11-01T17:30:53.978841Z",
     "start_time": "2024-11-01T17:30:53.965840Z"
    }
   },
   "outputs": [],
   "source": [
    "def ensemble_predict(models, test_data):\n",
    "    # 每个模型对测试集进行预测\n",
    "    predictions = np.array([model.predict(test_data).to_numpy() for model in models])\n",
    "    # 进行投票表决\n",
    "    final_prediction = np.round(predictions.mean(axis=0)).astype(int)\n",
    "    return final_prediction"
   ]
  }
 ],
 "metadata": {
  "kernelspec": {
   "display_name": ".venv",
   "language": "python",
   "name": "python3"
  },
  "language_info": {
   "codemirror_mode": {
    "name": "ipython",
    "version": 3
   },
   "file_extension": ".py",
   "mimetype": "text/x-python",
   "name": "python",
   "nbconvert_exporter": "python",
   "pygments_lexer": "ipython3",
   "version": "3.8.10"
  }
 },
 "nbformat": 4,
 "nbformat_minor": 0
}
